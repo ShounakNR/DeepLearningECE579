{
 "cells": [
  {
   "cell_type": "code",
   "execution_count": 1,
   "metadata": {},
   "outputs": [],
   "source": [
    "import math"
   ]
  },
  {
   "cell_type": "code",
   "execution_count": 2,
   "metadata": {},
   "outputs": [],
   "source": [
    "class NodeInverse ():\n",
    "    input = 1\n",
    "    def __init__(self,num):\n",
    "        self.input=num\n",
    "    def output(self):\n",
    "        result =1/self.input\n",
    "        return result\n",
    "    def localGradient(self):\n",
    "        return -1*math.pow(self.input,-2)\n",
    "    def downstream(self,upstream):\n",
    "        return self.localGradient()*upstream"
   ]
  },
  {
   "cell_type": "code",
   "execution_count": 3,
   "metadata": {},
   "outputs": [],
   "source": [
    "class NodeLinear ():\n",
    "    input = 1\n",
    "    b=0\n",
    "    def __init__(self,num,b):\n",
    "        self.input=num\n",
    "        self.b = b\n",
    "    def output(self):\n",
    "        result = self.input+self.b\n",
    "        return result\n",
    "    def localGradient(self):\n",
    "        return 1\n",
    "    def downstream(self,upstream):\n",
    "        return self.localGradient()*upstream"
   ]
  },
  {
   "cell_type": "code",
   "execution_count": 4,
   "metadata": {},
   "outputs": [],
   "source": [
    "class NodeAdd ():\n",
    "    input1 = 0\n",
    "    input2=0\n",
    "    def __init__(self,num1,num2):\n",
    "        self.input1=num1\n",
    "        self.input2=num2\n",
    "    def output(self):\n",
    "        result = self.input1+self.input2\n",
    "        return result\n",
    "    def localGradient(self):\n",
    "        return 1\n",
    "    def downstream(self,upstream):\n",
    "        return self.localGradient()*upstream"
   ]
  },
  {
   "cell_type": "code",
   "execution_count": 5,
   "metadata": {},
   "outputs": [],
   "source": [
    "class NodeSine ():\n",
    "    input = 1\n",
    "    def __init__(self,num):\n",
    "        self.input=num\n",
    "    def output(self):\n",
    "        result = math.sin(self.input)\n",
    "        return result\n",
    "    def localGradient(self):\n",
    "        return math.cos(self.input)\n",
    "    def downstream(self,upstream):\n",
    "        return self.localGradient()*upstream"
   ]
  },
  {
   "cell_type": "code",
   "execution_count": 6,
   "metadata": {},
   "outputs": [],
   "source": [
    "class NodeCosine ():\n",
    "    input = 1\n",
    "    def __init__(self,num):\n",
    "        self.input=num\n",
    "    def output(self):\n",
    "        result = math.cos(self.input)\n",
    "        return result\n",
    "    def localGradient(self):\n",
    "        return -math.sin(self.input)\n",
    "    def downstream(self,upstream):\n",
    "        return self.localGradient()*upstream"
   ]
  },
  {
   "cell_type": "code",
   "execution_count": 7,
   "metadata": {},
   "outputs": [],
   "source": [
    "class NodeMultiply ():\n",
    "    input1 = 1\n",
    "    input2 =1\n",
    "    def __init__(self,num1,num2):\n",
    "        self.input1=num1\n",
    "        self.input2=num2\n",
    "    def output(self):\n",
    "        result = self.input1*self.input2\n",
    "        return result\n",
    "    def localGradient1(self):\n",
    "        return self.input2\n",
    "    def localGradient2(self):\n",
    "        return self.input1\n",
    "    def downstream1(self,upstream):\n",
    "        return self.localGradient1()*upstream\n",
    "    def downstream2(self,upstream):\n",
    "        return self.localGradient2()*upstream"
   ]
  },
  {
   "cell_type": "code",
   "execution_count": 8,
   "metadata": {},
   "outputs": [],
   "source": [
    "class NodeSquare ():\n",
    "    input = 1\n",
    "    def __init__(self,num):\n",
    "        self.input=num\n",
    "    def output(self):\n",
    "        result = math.pow(self.input,2)\n",
    "        return result\n",
    "    def localGradient(self):\n",
    "        return 2*self.input\n",
    "    def downstream(self,upstream):\n",
    "        return self.localGradient()*upstream"
   ]
  },
  {
   "cell_type": "code",
   "execution_count": 9,
   "metadata": {},
   "outputs": [],
   "source": [
    "class Fx():\n",
    "    W1=0\n",
    "    W2=0\n",
    "    X1=0\n",
    "    X2=0\n",
    "    def __init__(self,a,b,c,d):\n",
    "        self.W1=a\n",
    "        self.X1=b\n",
    "        self.W2=c\n",
    "        self.X2=d\n",
    "    def forward (self):\n",
    "        N1=NodeMultiply(self.W1,self.X1)\n",
    "        N2=NodeSine(N1.output())\n",
    "        N3 = NodeSquare(N2.output())\n",
    "        N9 = NodeMultiply(self.W2,self.X2)\n",
    "        N10=NodeCosine(N9.output())\n",
    "        N4 = NodeAdd(N3.output(),N10.output())\n",
    "        N5 = NodeLinear(N4.output(),2)\n",
    "        N6 = NodeInverse(N5.output())\n",
    "        result= N6.output()\n",
    "        return result\n",
    "    def backward (self):\n",
    "        N1=NodeMultiply(self.W1,self.X1)\n",
    "        N2=NodeSine(N1.output())\n",
    "        N3 = NodeSquare(N2.output())\n",
    "        N9 = NodeMultiply(self.W2,self.X2)\n",
    "        N10=NodeCosine(N9.output())\n",
    "        N4 = NodeAdd(N3.output(),N10.output())\n",
    "        N5 = NodeLinear(N4.output(),2)\n",
    "        N6 = NodeInverse(N5.output())\n",
    "        dW1= N1.downstream1(N2.downstream(N3.downstream(N4.downstream(N5.downstream(N6.downstream(1))))))\n",
    "        dX1= N1.downstream2(N2.downstream(N3.downstream(N4.downstream(N5.downstream(N6.downstream(1))))))\n",
    "        dW2= N9.downstream1(N10.downstream(N4.downstream(N5.downstream(N6.downstream(1)))))\n",
    "        dX2= N9.downstream2(N10.downstream(N4.downstream(N5.downstream(N6.downstream(1)))))\n",
    "#         N1.downstream1(N2.downstream(N3.downstream1(N4.downstream(N5.downstream(N6.downstream(1))))))\n",
    "        return [dW1,dX1,dW2,dX2];\n",
    "    "
   ]
  },
  {
   "cell_type": "code",
   "execution_count": 10,
   "metadata": {},
   "outputs": [],
   "source": [
    "a=Fx(2,-1,-3,-2)"
   ]
  },
  {
   "cell_type": "code",
   "execution_count": 11,
   "metadata": {},
   "outputs": [
    {
     "data": {
      "text/plain": [
       "0.26406181327140527"
      ]
     },
     "execution_count": 11,
     "metadata": {},
     "output_type": "execute_result"
    }
   ],
   "source": [
    "\n",
    "a.forward()"
   ]
  },
  {
   "cell_type": "code",
   "execution_count": 12,
   "metadata": {},
   "outputs": [
    {
     "data": {
      "text/plain": [
       "[0.05277080967591981,\n",
       " -0.10554161935183962,\n",
       " 0.03896652605501356,\n",
       " 0.05844978908252034]"
      ]
     },
     "execution_count": 12,
     "metadata": {},
     "output_type": "execute_result"
    }
   ],
   "source": [
    "a.backward()"
   ]
  },
  {
   "cell_type": "code",
   "execution_count": null,
   "metadata": {},
   "outputs": [],
   "source": []
  }
 ],
 "metadata": {
  "kernelspec": {
   "display_name": "Python 3",
   "language": "python",
   "name": "python3"
  },
  "language_info": {
   "codemirror_mode": {
    "name": "ipython",
    "version": 3
   },
   "file_extension": ".py",
   "mimetype": "text/x-python",
   "name": "python",
   "nbconvert_exporter": "python",
   "pygments_lexer": "ipython3",
   "version": "3.7.4"
  }
 },
 "nbformat": 4,
 "nbformat_minor": 2
}
