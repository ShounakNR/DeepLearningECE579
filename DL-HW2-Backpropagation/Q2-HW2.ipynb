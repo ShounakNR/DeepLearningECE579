{
 "cells": [
  {
   "cell_type": "code",
   "execution_count": 20,
   "metadata": {},
   "outputs": [],
   "source": [
    "import numpy as np\n",
    "import math"
   ]
  },
  {
   "cell_type": "code",
   "execution_count": 48,
   "metadata": {},
   "outputs": [],
   "source": [
    "class NodeL2():\n",
    "    inputArr=np.zeros((3,1))\n",
    "    def __init__(self,arr):\n",
    "        self.inputArr=np.copy(arr)\n",
    "    def output(self):\n",
    "        return np.sum(np.square(self.inputArr))\n",
    "    def localGradient(self):\n",
    "        return np.multiply(2,self.inputArr)\n",
    "    def downstream(self,upstream):\n",
    "        return self.localGradient()*upstream"
   ]
  },
  {
   "cell_type": "code",
   "execution_count": 59,
   "metadata": {},
   "outputs": [],
   "source": [
    "class NodeSigmoid():\n",
    "    inputArr =np.zeros((3,1))\n",
    "    def __init__(self,arr):\n",
    "        self.inputArr=np.copy(arr)\n",
    "    def sigmoid(self):\n",
    "        g=1/(1+np.exp(-self.inputArr))\n",
    "        return g\n",
    "    def localGradient(self):\n",
    "        return np.multiply((1-self.sigmoid()),self.sigmoid())\n",
    "    def downstream(self,upstream):\n",
    "        return np.multiply(self.localGradient(),upstream)"
   ]
  },
  {
   "cell_type": "code",
   "execution_count": 93,
   "metadata": {},
   "outputs": [],
   "source": [
    "class NodeMultiply():\n",
    "    inputArr1=np.zeros((3,3))\n",
    "    inputArr2=np.zeros((3,1))\n",
    "    def __init__(self,arr1,arr2):\n",
    "        self.inputArr1=np.copy(arr1)\n",
    "        self.inputArr2=np.copy(arr2)\n",
    "    def output(self):\n",
    "        return np.dot(self.inputArr1,self.inputArr2)\n",
    "    def localGradient1(self):\n",
    "        return np.transpose(self.inputArr2)\n",
    "    def localGradient2(self):\n",
    "        return np.transpose(self.inputArr1)\n",
    "    def downstream1(self,upstream):\n",
    "        return np.dot(upstream,self.localGradient1())\n",
    "    def downstream2(self,upstream):\n",
    "        return np.dot(self.localGradient2(),upstream)"
   ]
  },
  {
   "cell_type": "code",
   "execution_count": 131,
   "metadata": {},
   "outputs": [],
   "source": [
    "class Fx():\n",
    "    W=np.zeros((3,3))\n",
    "    X=np.zeros((3,1))\n",
    "    def __init__(self,arr1,arr2):\n",
    "        self.W = np.copy(arr1)\n",
    "        self.X = np.copy(arr2)\n",
    "    def forward (self):\n",
    "        N1 = NodeMultiply(self.W,self.X)\n",
    "        N2 = NodeSigmoid(N1.output())\n",
    "        N3 = NodeL2(N2.sigmoid())\n",
    "        return N3.output()\n",
    "    def backward (self):\n",
    "        N1 = NodeMultiply(self.W,self.X)\n",
    "        N2 = NodeSigmoid(N1.output())\n",
    "        N3 = NodeL2(N2.sigmoid())\n",
    "        dW = N1.downstream1(N2.downstream(N3.downstream(1)))\n",
    "        dX = N1.downstream2(N2.downstream(N3.downstream(1)))\n",
    "        return dW,dX"
   ]
  },
  {
   "cell_type": "code",
   "execution_count": 132,
   "metadata": {},
   "outputs": [],
   "source": [
    "n1 =Fx([[1,0,1],[1,0,1],[0,1,1]],[[1],[0],[0]])"
   ]
  },
  {
   "cell_type": "code",
   "execution_count": 133,
   "metadata": {},
   "outputs": [
    {
     "data": {
      "text/plain": [
       "(array([[0.28746968, 0.        , 0.        ],\n",
       "        [0.28746968, 0.        , 0.        ],\n",
       "        [0.25      , 0.        , 0.        ]]), array([[0.57493936],\n",
       "        [0.25      ],\n",
       "        [0.82493936]]))"
      ]
     },
     "execution_count": 133,
     "metadata": {},
     "output_type": "execute_result"
    }
   ],
   "source": [
    "n1.backward()"
   ]
  },
  {
   "cell_type": "code",
   "execution_count": 41,
   "metadata": {},
   "outputs": [
    {
     "name": "stdout",
     "output_type": "stream",
     "text": [
      "[[0.36787944]\n",
      " [0.13533528]\n",
      " [0.04978707]]\n"
     ]
    }
   ],
   "source": [
    "z=np.array([[1],[2],[3]])\n",
    "print(np.exp(-z))"
   ]
  },
  {
   "cell_type": "code",
   "execution_count": null,
   "metadata": {},
   "outputs": [],
   "source": []
  }
 ],
 "metadata": {
  "kernelspec": {
   "display_name": "Python 3",
   "language": "python",
   "name": "python3"
  },
  "language_info": {
   "codemirror_mode": {
    "name": "ipython",
    "version": 3
   },
   "file_extension": ".py",
   "mimetype": "text/x-python",
   "name": "python",
   "nbconvert_exporter": "python",
   "pygments_lexer": "ipython3",
   "version": "3.7.4"
  }
 },
 "nbformat": 4,
 "nbformat_minor": 2
}
